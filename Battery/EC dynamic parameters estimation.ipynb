{
 "cells": [
  {
   "cell_type": "markdown",
   "metadata": {},
   "source": [
    "This notebook aims at computing a precise estimate of the dynamic parameters of the equivalent circuit model, namely R0, R1 and C1. The data used to give that estimation must satisfy a few criteria : \n",
    "- Battery must have been at rest before logging start, which means that the parameter allowing logging to start should be set in QGC.\n",
    "- The log should cover the entirecharge range of the battery, i.e. the battery should go form 100% charge to 0% during the log, so that the different battery behaviors at all states of charge are captured.\n",
    "- If the estimation is performed on several logs, all logs should come from the same battery with similar age. \n",
    "- Total capacity Q and coulombic efficiency eta (statis parameters) should be computed on that very same battery, in the same condition as the dynamic tests.\n"
   ]
  },
  {
   "cell_type": "code",
   "execution_count": null,
   "metadata": {},
   "outputs": [],
   "source": []
  }
 ],
 "metadata": {
  "kernelspec": {
   "display_name": "Python 3",
   "language": "python",
   "name": "python3"
  },
  "language_info": {
   "codemirror_mode": {
    "name": "ipython",
    "version": 3
   },
   "file_extension": ".py",
   "mimetype": "text/x-python",
   "name": "python",
   "nbconvert_exporter": "python",
   "pygments_lexer": "ipython3",
   "version": "3.7.4"
  }
 },
 "nbformat": 4,
 "nbformat_minor": 2
}
