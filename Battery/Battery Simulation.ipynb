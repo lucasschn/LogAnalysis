{
 "cells": [
  {
   "cell_type": "code",
   "execution_count": 1,
   "metadata": {},
   "outputs": [],
   "source": [
    "import csv \n",
    "import numpy as np\n",
    "import pandas as pd\n",
    "import sys\n",
    "sys.path.append('/home/lucas/Documents/Log_Analysis/Battery')\n",
    "#sys.path.append('/Users/Lucas/Documents/Travail/Yuneec/LogAnalysis')\n",
    "#sys.path.append('/Users/Lucas/Documents/Travail/Yuneec/LogAnalysis/Battery')\n",
    "from battery import OCVcurve, Thevenin\n",
    "import analog\n",
    "from scipy.interpolate import interp1d as interp1d\n",
    "import matplotlib\n",
    "import matplotlib.pyplot as plt\n",
    "%matplotlib notebook"
   ]
  },
  {
   "cell_type": "markdown",
   "metadata": {},
   "source": [
    "### Import the equivalent circuit parameters"
   ]
  },
  {
   "cell_type": "code",
   "execution_count": 2,
   "metadata": {},
   "outputs": [],
   "source": [
    "ECparams = pd.read_csv('ECparams.csv')\n",
    "R0 = float(ECparams['R0'])\n",
    "R0 = 0.005\n",
    "R1 = float(ECparams['R1'])\n",
    "R1 = 0.01\n",
    "C1 = float(ECparams['C1'])\n",
    "C1 = 566.666"
   ]
  },
  {
   "cell_type": "code",
   "execution_count": 3,
   "metadata": {},
   "outputs": [
    {
     "data": {
      "text/plain": [
       "[<matplotlib.lines.Line2D at 0x7fd239c7a1d0>]"
      ]
     },
     "execution_count": 3,
     "metadata": {},
     "output_type": "execute_result"
    },
    {
     "data": {
      "image/png": "[encoded data removed]",
      "text/plain": [
       "<Figure size 432x288 with 1 Axes>"
      ]
     },
     "metadata": {
      "needs_background": "light"
     },
     "output_type": "display_data"
    }
   ],
   "source": [
    "curve = OCVcurve('Battery 9/Discharge 200mA/SOCvsOCV_discharge200mA.csv')\n",
    "curve.plot()\n",
    "z0 = 1\n",
    "a = curve.getslope(z0)\n",
    "b = curve.OCVfromSOC(z0)-a*z0\n",
    "x = np.array([0,1])\n",
    "plt.plot(a*x+b)\n",
    "plt.plot(z0,curve.OCVfromSOC(z0),'rx')"
   ]
  },
  {
   "cell_type": "markdown",
   "metadata": {},
   "source": [
    "# Simulation"
   ]
  },
  {
   "cell_type": "markdown",
   "metadata": {},
   "source": [
    "### Import the test file"
   ]
  },
  {
   "cell_type": "code",
   "execution_count": 4,
   "metadata": {
    "scrolled": true
   },
   "outputs": [
    {
     "name": "stdout",
     "output_type": "stream",
     "text": [
      "/home/lucas/src/yuneec/Firmware/build/px4_sitl_default/tmp/rootfs/log/2019-10-11/09_44_25.ulg\n"
     ]
    }
   ],
   "source": [
    "folder = '/home/lucas/Documents/Log_Analysis/Logs/Snow Orange (Battery 9) z0=1'\n",
    "#folder = '/Users/Lucas/Documents/Travail/Yuneec/Logs'\n",
    "log_file = analog.pathfromQGC(folder,index=195)\n",
    "\n",
    "log_file = analog.pathfromgazebo('2019-10-11','09_44_25','yuneec')\n",
    "\n",
    "print(log_file)\n",
    "info = analog.logextract(log_file,'battery_status')\n",
    "\n",
    "current = info['battery_current']\n",
    "time = info['time_bs']\n",
    "voltage = info['battery_voltage']/4"
   ]
  },
  {
   "cell_type": "code",
   "execution_count": 8,
   "metadata": {},
   "outputs": [
    {
     "data": {
      "text/plain": [
       "[<matplotlib.lines.Line2D at 0x7fd2398bcc10>]"
      ]
     },
     "execution_count": 8,
     "metadata": {},
     "output_type": "execute_result"
    },
    {
     "data": {
      "image/png": "[encoded data removed]",
      "text/plain": [
       "<Figure size 432x288 with 1 Axes>"
      ]
     },
     "metadata": {
      "needs_background": "light"
     },
     "output_type": "display_data"
    }
   ],
   "source": [
    "plt.plot(time,voltage)"
   ]
  },
  {
   "cell_type": "markdown",
   "metadata": {},
   "source": [
    "### Tune some more simulation parameters"
   ]
  },
  {
   "cell_type": "code",
   "execution_count": 6,
   "metadata": {},
   "outputs": [
    {
     "ename": "ValueError",
     "evalue": "A value in x_new is below the interpolation range.",
     "output_type": "error",
     "traceback": [
      "\u001b[0;31m---------------------------------------------------------------------------\u001b[0m",
      "\u001b[0;31mValueError\u001b[0m                                Traceback (most recent call last)",
      "\u001b[0;32m<ipython-input-6-37a04feb7634>\u001b[0m in \u001b[0;36m<module>\u001b[0;34m\u001b[0m\n\u001b[1;32m      2\u001b[0m \u001b[0mQ\u001b[0m \u001b[0;34m=\u001b[0m \u001b[0;36m8000\u001b[0m\u001b[0;34m*\u001b[0m\u001b[0;36m3.6\u001b[0m\u001b[0;34m\u001b[0m\u001b[0;34m\u001b[0m\u001b[0m\n\u001b[1;32m      3\u001b[0m \u001b[0meta\u001b[0m \u001b[0;34m=\u001b[0m \u001b[0;36m1\u001b[0m\u001b[0;34m\u001b[0m\u001b[0;34m\u001b[0m\u001b[0m\n\u001b[0;32m----> 4\u001b[0;31m \u001b[0mz0\u001b[0m \u001b[0;34m=\u001b[0m \u001b[0mcurve\u001b[0m\u001b[0;34m.\u001b[0m\u001b[0mSOCfromOCV\u001b[0m\u001b[0;34m(\u001b[0m\u001b[0mnp\u001b[0m\u001b[0;34m.\u001b[0m\u001b[0mmean\u001b[0m\u001b[0;34m(\u001b[0m\u001b[0mvoltage\u001b[0m\u001b[0;34m[\u001b[0m\u001b[0;36m0\u001b[0m\u001b[0;34m]\u001b[0m\u001b[0;34m)\u001b[0m\u001b[0;34m+\u001b[0m\u001b[0mR0\u001b[0m\u001b[0;34m*\u001b[0m\u001b[0mcurrent\u001b[0m\u001b[0;34m[\u001b[0m\u001b[0;36m0\u001b[0m\u001b[0;34m]\u001b[0m\u001b[0;34m)\u001b[0m \u001b[0;31m# taken from log to be tested\u001b[0m\u001b[0;34m\u001b[0m\u001b[0;34m\u001b[0m\u001b[0m\n\u001b[0m\u001b[1;32m      5\u001b[0m \u001b[0mprint\u001b[0m\u001b[0;34m(\u001b[0m\u001b[0;34mf'z0 = {z0}'\u001b[0m\u001b[0;34m)\u001b[0m\u001b[0;34m\u001b[0m\u001b[0;34m\u001b[0m\u001b[0m\n\u001b[1;32m      6\u001b[0m \u001b[0mbattery\u001b[0m \u001b[0;34m=\u001b[0m \u001b[0mThevenin\u001b[0m\u001b[0;34m(\u001b[0m\u001b[0mz0\u001b[0m\u001b[0;34m,\u001b[0m\u001b[0mQ\u001b[0m\u001b[0;34m,\u001b[0m\u001b[0mcurve\u001b[0m\u001b[0;34m,\u001b[0m\u001b[0mR0\u001b[0m\u001b[0;34m,\u001b[0m\u001b[0mR1\u001b[0m\u001b[0;34m,\u001b[0m\u001b[0mC1\u001b[0m\u001b[0;34m)\u001b[0m\u001b[0;34m\u001b[0m\u001b[0;34m\u001b[0m\u001b[0m\n",
      "\u001b[0;32m~/Documents/Log_Analysis/Battery/battery.py\u001b[0m in \u001b[0;36mSOCfromOCV\u001b[0;34m(self, v)\u001b[0m\n\u001b[1;32m    141\u001b[0m \u001b[0;34m\u001b[0m\u001b[0m\n\u001b[1;32m    142\u001b[0m     \u001b[0;32mdef\u001b[0m \u001b[0mSOCfromOCV\u001b[0m\u001b[0;34m(\u001b[0m\u001b[0mself\u001b[0m\u001b[0;34m,\u001b[0m\u001b[0mv\u001b[0m\u001b[0;34m)\u001b[0m\u001b[0;34m:\u001b[0m\u001b[0;34m\u001b[0m\u001b[0;34m\u001b[0m\u001b[0m\n\u001b[0;32m--> 143\u001b[0;31m         \u001b[0mz\u001b[0m \u001b[0;34m=\u001b[0m \u001b[0mself\u001b[0m\u001b[0;34m.\u001b[0m\u001b[0minterpSOC\u001b[0m\u001b[0;34m(\u001b[0m\u001b[0mv\u001b[0m\u001b[0;34m)\u001b[0m\u001b[0;34m\u001b[0m\u001b[0;34m\u001b[0m\u001b[0m\n\u001b[0m\u001b[1;32m    144\u001b[0m         \u001b[0;32mreturn\u001b[0m \u001b[0mz\u001b[0m\u001b[0;34m\u001b[0m\u001b[0;34m\u001b[0m\u001b[0m\n\u001b[1;32m    145\u001b[0m \u001b[0;34m\u001b[0m\u001b[0m\n",
      "\u001b[0;32m~/anaconda3/envs/analysis/lib/python3.7/site-packages/scipy/interpolate/polyint.py\u001b[0m in \u001b[0;36m__call__\u001b[0;34m(self, x)\u001b[0m\n\u001b[1;32m     77\u001b[0m         \"\"\"\n\u001b[1;32m     78\u001b[0m         \u001b[0mx\u001b[0m\u001b[0;34m,\u001b[0m \u001b[0mx_shape\u001b[0m \u001b[0;34m=\u001b[0m \u001b[0mself\u001b[0m\u001b[0;34m.\u001b[0m\u001b[0m_prepare_x\u001b[0m\u001b[0;34m(\u001b[0m\u001b[0mx\u001b[0m\u001b[0;34m)\u001b[0m\u001b[0;34m\u001b[0m\u001b[0;34m\u001b[0m\u001b[0m\n\u001b[0;32m---> 79\u001b[0;31m         \u001b[0my\u001b[0m \u001b[0;34m=\u001b[0m \u001b[0mself\u001b[0m\u001b[0;34m.\u001b[0m\u001b[0m_evaluate\u001b[0m\u001b[0;34m(\u001b[0m\u001b[0mx\u001b[0m\u001b[0;34m)\u001b[0m\u001b[0;34m\u001b[0m\u001b[0;34m\u001b[0m\u001b[0m\n\u001b[0m\u001b[1;32m     80\u001b[0m         \u001b[0;32mreturn\u001b[0m \u001b[0mself\u001b[0m\u001b[0;34m.\u001b[0m\u001b[0m_finish_y\u001b[0m\u001b[0;34m(\u001b[0m\u001b[0my\u001b[0m\u001b[0;34m,\u001b[0m \u001b[0mx_shape\u001b[0m\u001b[0;34m)\u001b[0m\u001b[0;34m\u001b[0m\u001b[0;34m\u001b[0m\u001b[0m\n\u001b[1;32m     81\u001b[0m \u001b[0;34m\u001b[0m\u001b[0m\n",
      "\u001b[0;32m~/anaconda3/envs/analysis/lib/python3.7/site-packages/scipy/interpolate/interpolate.py\u001b[0m in \u001b[0;36m_evaluate\u001b[0;34m(self, x_new)\u001b[0m\n\u001b[1;32m    661\u001b[0m         \u001b[0my_new\u001b[0m \u001b[0;34m=\u001b[0m \u001b[0mself\u001b[0m\u001b[0;34m.\u001b[0m\u001b[0m_call\u001b[0m\u001b[0;34m(\u001b[0m\u001b[0mself\u001b[0m\u001b[0;34m,\u001b[0m \u001b[0mx_new\u001b[0m\u001b[0;34m)\u001b[0m\u001b[0;34m\u001b[0m\u001b[0;34m\u001b[0m\u001b[0m\n\u001b[1;32m    662\u001b[0m         \u001b[0;32mif\u001b[0m \u001b[0;32mnot\u001b[0m \u001b[0mself\u001b[0m\u001b[0;34m.\u001b[0m\u001b[0m_extrapolate\u001b[0m\u001b[0;34m:\u001b[0m\u001b[0;34m\u001b[0m\u001b[0;34m\u001b[0m\u001b[0m\n\u001b[0;32m--> 663\u001b[0;31m             \u001b[0mbelow_bounds\u001b[0m\u001b[0;34m,\u001b[0m \u001b[0mabove_bounds\u001b[0m \u001b[0;34m=\u001b[0m \u001b[0mself\u001b[0m\u001b[0;34m.\u001b[0m\u001b[0m_check_bounds\u001b[0m\u001b[0;34m(\u001b[0m\u001b[0mx_new\u001b[0m\u001b[0;34m)\u001b[0m\u001b[0;34m\u001b[0m\u001b[0;34m\u001b[0m\u001b[0m\n\u001b[0m\u001b[1;32m    664\u001b[0m             \u001b[0;32mif\u001b[0m \u001b[0mlen\u001b[0m\u001b[0;34m(\u001b[0m\u001b[0my_new\u001b[0m\u001b[0;34m)\u001b[0m \u001b[0;34m>\u001b[0m \u001b[0;36m0\u001b[0m\u001b[0;34m:\u001b[0m\u001b[0;34m\u001b[0m\u001b[0;34m\u001b[0m\u001b[0m\n\u001b[1;32m    665\u001b[0m                 \u001b[0;31m# Note fill_value must be broadcast up to the proper size\u001b[0m\u001b[0;34m\u001b[0m\u001b[0;34m\u001b[0m\u001b[0;34m\u001b[0m\u001b[0m\n",
      "\u001b[0;32m~/anaconda3/envs/analysis/lib/python3.7/site-packages/scipy/interpolate/interpolate.py\u001b[0m in \u001b[0;36m_check_bounds\u001b[0;34m(self, x_new)\u001b[0m\n\u001b[1;32m    690\u001b[0m         \u001b[0;31m# !! Could provide more information about which values are out of bounds\u001b[0m\u001b[0;34m\u001b[0m\u001b[0;34m\u001b[0m\u001b[0;34m\u001b[0m\u001b[0m\n\u001b[1;32m    691\u001b[0m         \u001b[0;32mif\u001b[0m \u001b[0mself\u001b[0m\u001b[0;34m.\u001b[0m\u001b[0mbounds_error\u001b[0m \u001b[0;32mand\u001b[0m \u001b[0mbelow_bounds\u001b[0m\u001b[0;34m.\u001b[0m\u001b[0many\u001b[0m\u001b[0;34m(\u001b[0m\u001b[0;34m)\u001b[0m\u001b[0;34m:\u001b[0m\u001b[0;34m\u001b[0m\u001b[0;34m\u001b[0m\u001b[0m\n\u001b[0;32m--> 692\u001b[0;31m             raise ValueError(\"A value in x_new is below the interpolation \"\n\u001b[0m\u001b[1;32m    693\u001b[0m                              \"range.\")\n\u001b[1;32m    694\u001b[0m         \u001b[0;32mif\u001b[0m \u001b[0mself\u001b[0m\u001b[0;34m.\u001b[0m\u001b[0mbounds_error\u001b[0m \u001b[0;32mand\u001b[0m \u001b[0mabove_bounds\u001b[0m\u001b[0;34m.\u001b[0m\u001b[0many\u001b[0m\u001b[0;34m(\u001b[0m\u001b[0;34m)\u001b[0m\u001b[0;34m:\u001b[0m\u001b[0;34m\u001b[0m\u001b[0;34m\u001b[0m\u001b[0m\n",
      "\u001b[0;31mValueError\u001b[0m: A value in x_new is below the interpolation range."
     ]
    }
   ],
   "source": [
    "Q = 6230*3.6 # has to be in Coulombs\n",
    "Q = 8000*3.6\n",
    "eta = 1\n",
    "z0 = curve.SOCfromOCV(np.mean(voltage[0])+R0*current[0]) # taken from log to be tested\n",
    "print(f'z0 = {z0}')\n",
    "battery = Thevenin(z0,Q,curve,R0,R1,C1)"
   ]
  },
  {
   "cell_type": "code",
   "execution_count": null,
   "metadata": {},
   "outputs": [],
   "source": [
    "print(f'True measured initital voltage is {voltage[0]:.2f} V')\n",
    "print(f'True initial OCV would then be {voltage[0]+R0*current[0]:.2f} V, because initial current is {current[0]:.2f} A')"
   ]
  },
  {
   "cell_type": "markdown",
   "metadata": {},
   "source": [
    "### Run the simulation using the state-space model"
   ]
  },
  {
   "cell_type": "code",
   "execution_count": null,
   "metadata": {},
   "outputs": [],
   "source": [
    "%matplotlib notebook\n",
    "vsim = battery.simulate(time,current,plot=False)\n",
    "battery.statespace(np.mean(np.diff(time)))\n",
    "vlsim = battery.lsim(time,current,curve)\n",
    "\n",
    "plt.figure()\n",
    "plt.subplot(211)\n",
    "plt.plot(time,voltage,label='real')\n",
    "plt.plot(time,vsim,label='sim',alpha=.7)\n",
    "#plt.plot(time,vlsim+3.6,label='linsim')\n",
    "plt.legend()\n",
    "plt.grid()\n",
    "plt.ylabel('Cell voltage (V)')\n",
    "plt.subplot(212)\n",
    "plt.plot(time,current)\n",
    "plt.xlabel('time (s)')\n",
    "plt.ylabel('Current (A)')\n",
    "plt.grid()\n",
    "plt.show()"
   ]
  },
  {
   "cell_type": "code",
   "execution_count": null,
   "metadata": {},
   "outputs": [],
   "source": [
    "N = len(vsim)\n",
    "rmserror = (1/N*np.sum((vsim-voltage)**2))**.5\n",
    "print(f'Root mean square error is {round(rmserror*1000,2)} mV. It is acceptable under 10mV according to Prof. G.Plett.')"
   ]
  },
  {
   "cell_type": "code",
   "execution_count": null,
   "metadata": {},
   "outputs": [],
   "source": [
    "n=20\n",
    "R0list = np.array(np.linspace(0,15,n))*1e-3\n",
    "R1list = np.array(np.linspace(0,15,n))*1e-3\n",
    "C1list = np.array(np.linspace(100,1500,n))\n",
    "\n",
    "sk = np.empty_like([],shape=[len(R0list),len(R1list),len(C1list)])\n",
    "print(np.shape(sk))\n",
    "\n",
    "batsim = Thevenin(z0,Q,curve,R0list[0],R1list[0],C1list[0])\n",
    "print(z0)"
   ]
  },
  {
   "cell_type": "code",
   "execution_count": null,
   "metadata": {
    "scrolled": true
   },
   "outputs": [],
   "source": [
    "current_iteration = 0\n",
    "max_iteration = n*n*n-1\n",
    "for kr0 in range(len(R0list)):\n",
    "    for kr in range(len(R1list)):\n",
    "        for kc in range(len(C1list)):\n",
    "            progress = current_iteration / max_iteration\n",
    "            print(f'progress: {progress*100} % \\r')\n",
    "            current_iteration += 1\n",
    "            batsim.reset(R0list[kr0],R1list[kr],C1list[kc],z0)\n",
    "            vsim = batsim.simulate(time,current)\n",
    "            rms = (np.mean((voltage-vsim)**2))**.5\n",
    "            sk[kr0,kr,kc] = rms"
   ]
  },
  {
   "cell_type": "code",
   "execution_count": null,
   "metadata": {},
   "outputs": [],
   "source": [
    "'''\n",
    "==============\n",
    "3D scatterplot\n",
    "==============\n",
    "\n",
    "Demonstration of a basic scatterplot in 3D.\n",
    "'''\n",
    "\n",
    "from mpl_toolkits.mplot3d import Axes3D\n",
    "import matplotlib.pyplot as plt\n",
    "import numpy as np\n",
    "\n",
    "\n",
    "def randrange(n, vmin, vmax):\n",
    "    '''\n",
    "    Helper function to make an array of random numbers having shape (n, )\n",
    "    with each number distributed Uniform(vmin, vmax).\n",
    "    '''\n",
    "    return (vmax - vmin)*np.random.rand(n) + vmin\n",
    "\n",
    "fig = plt.figure()\n",
    "ax = fig.add_subplot(111, projection='3d')\n",
    "\n",
    "n = 100\n",
    "\n",
    "# For each set of style and range settings, plot n random points in the box\n",
    "c = [i for i in range(0,99)]\n",
    "m = 'o'\n",
    "xs,ys,zs = np.meshgrid(R0list,R1list,C1list)\n",
    "ax.scatter(xs, ys, zs, c=np.reshape(sk,(8000,)), marker=m)\n",
    "\n",
    "ax.set_xlabel('R0')\n",
    "ax.set_ylabel('R1')\n",
    "ax.set_zlabel('C1')\n",
    "\n",
    "plt.show()\n",
    "print(np.min(sk))\n",
    "print(np.unravel_index(np.argmin(sk),np.shape(sk)))\n",
    "print(sk[6,11,5])\n",
    "print(R0list[6])\n",
    "print(R1list[11])\n",
    "print(C1list[5])"
   ]
  },
  {
   "cell_type": "code",
   "execution_count": null,
   "metadata": {
    "scrolled": false
   },
   "outputs": [],
   "source": [
    "from mpl_toolkits.mplot3d import Axes3D  # noqa: F401 unused import\n",
    "from matplotlib import cm \n",
    "\n",
    "#fig = plt.figure()\n",
    "#ax = fig.add_subplot(111, projection='3d')\n",
    "\n",
    "for kc in range(len(C1list)):\n",
    "    plt.figure()\n",
    "    plt.contourf(R1list,R0list,sk[:,:,kc])\n",
    "    plt.colorbar()\n",
    "    plt.xlabel('R1')\n",
    "    plt.ylabel('R0')\n",
    "    plt.title(f'C1 = {C1list[kc]}')"
   ]
  },
  {
   "cell_type": "code",
   "execution_count": null,
   "metadata": {},
   "outputs": [],
   "source": []
  },
  {
   "cell_type": "code",
   "execution_count": null,
   "metadata": {},
   "outputs": [],
   "source": [
    "vtilda = vsim - curve.OCVfromSOC(battery.simz[1:])\n",
    "\n",
    "plt.figure()\n",
    "plt.plot(time,vtilda)\n",
    "plt.xlabel('time (s)')\n",
    "# plt.ylabel('v_{load}-OCV', usetex=True)\n",
    "plt.grid()\n",
    "plt.show()"
   ]
  },
  {
   "cell_type": "markdown",
   "metadata": {},
   "source": [
    "# Kalman Filter"
   ]
  },
  {
   "cell_type": "code",
   "execution_count": null,
   "metadata": {},
   "outputs": [],
   "source": [
    "import filterpy\n",
    "from filterpy.kalman import KalmanFilter"
   ]
  },
  {
   "cell_type": "code",
   "execution_count": null,
   "metadata": {},
   "outputs": [],
   "source": [
    "dim_x = 2 # number of states\n",
    "dim_z = 1 # number of outputs\n",
    "kf = KalmanFilter(2,1)\n",
    "battery.statespace(battery.simdt)\n",
    "kf.F = battery.A \n",
    "kf.B = battery.B "
   ]
  },
  {
   "cell_type": "code",
   "execution_count": null,
   "metadata": {},
   "outputs": [],
   "source": [
    "xplus0 = np.array([[z0],[0.]]) # is a stack of 2x1 arrays = a 2xk array\n",
    "covxplus0 = np.array([[1e-4,0.],[0., .1]]) # is a stack of 2x2 arrays\n",
    "\n",
    "covw = np.array([[0.05, 0.],[0., 0.]]) # is a constant 2x2 array\n",
    "covv = 0.5017 # is a constant 1x1 array\n",
    "\n",
    "xminus = np.array([]) # is a stack of 2x1 arrays = a 2xk array\n",
    "covmxminus = np.array([]) # is a stack of 2x2 arrays\n",
    "yhat = np.array([]) # is a stack of 1x1 arrays = a 1-D array\n",
    "xplus = np.array([]) # is a stack of 2x1 arrays = a 2xk array\n",
    "covxplus = np.array([]) # is a stack of 2x2 arrays\n",
    "covxy = np.array([]) # is a stack of 2x1 arrays = a 2xk array\n",
    "covy = np.array([]) # is a stack of 1x1 arrays = a 1-D array\n",
    "L = np.array([]) # is a stack of stack of 2x1 arrays = a 1-D array\n",
    "\n",
    "u = current # is a stack of 1x1 arrays = a 1-D array\n",
    "y = voltage # is a stack of 1x1 arrays = a 1-D array\n",
    "\n",
    "kfbat = Thevenin(z0,Q,curve,R0,R1,C1)"
   ]
  },
  {
   "cell_type": "code",
   "execution_count": null,
   "metadata": {},
   "outputs": [],
   "source": [
    "n = 10\n",
    "for k in range(len(y[:n+1])):\n",
    "    #print(f'\\n New iteration k={k}')\n",
    "    \n",
    "    #if k==0:\n",
    "        #print(f'Real value of z : {battery.simz[k]}, a posteriori estimated value of z : {xplus0[0]}')\n",
    "        #print(f'Real value of i1 : {battery.simi1[k]}, a posteriori estimated value of i1 : {xplus0[1]}')\n",
    "    #else:\n",
    "        #print(f'Real value of z : {battery.simz[k]}, a posteriori estimated value of z : {xplus[0,-1]}')\n",
    "        #print(f'Real value of i1 : {battery.simi1[k]}, a posteriori estimated value of i1 : {xplus[1,-1]}')\n",
    "    \n",
    "    if k == 0: \n",
    "        kfbat.reset(R0,R1,C1,xplus0[0])\n",
    "    else: \n",
    "        kfbat.reset(R0,R1,C1,xplus[0,-1])\n",
    "    kfbat.statespace(battery.simdt)\n",
    "    \n",
    "    \n",
    "    #print(f'Matrix C is {kfbat.C}')\n",
    "    \n",
    "    \n",
    "    # 1 : Prediction update\n",
    "    \n",
    "    # 1a State prediction\n",
    "    \n",
    "    if k==0: \n",
    "        alpha = np.reshape(kfbat.A@xplus0,(2,1))\n",
    "        xminus = alpha\n",
    "    \n",
    "    else : \n",
    "        alpha = np.reshape(kfbat.A@xplus[:,k-1],(2,1))\n",
    "        beta = kfbat.B*u[k-1]\n",
    "        xminus = np.concatenate([xminus, alpha + beta],axis=1)\n",
    "    \n",
    "    \n",
    "    #if k==0:\n",
    "        #print(f'Real value of z : {battery.simz[k]}, a priori estimated value of z : {xplus0[0]}')\n",
    "        #print(f'Real value of i1 : {battery.simi1[k]}, a priori estimated value of i1 : {xplus0[1]}')\n",
    "    #else:\n",
    "        #print(f'Real value of z : {battery.simz[k]}, a priori estimated value of z : {xplus[0,-1]}')\n",
    "        #print(f'Real value of i1 : {battery.simi1[k]}, a priori estimated value of i1 : {xplus[1,-1]}')\n",
    "    \n",
    "    \n",
    "    #print(f'xminus is {np.shape(xminus)}, should be 2x{k+1}')\n",
    "    \n",
    "    kfbat.reset(R0,R1,C1,xminus[0,-1])\n",
    "    kfbat.statespace(battery.simdt)\n",
    "    \n",
    "    \n",
    "    # 1b State covariance a priori\n",
    "    \n",
    "    if k==0 :\n",
    "        covxminus = kfbat.A@covxplus0@kfbat.A.T + covw\n",
    "    elif k==1: \n",
    "        covxminus = np.dstack([covxminus,kfbat.A@covxplus@kfbat.A.T + covw])\n",
    "    else :\n",
    "        covxminus = np.dstack([covxminus,kfbat.A@covxplus[:,:,-1]@kfbat.A.T + covw])\n",
    "    #print(f'covxminus = {covxminus}')    \n",
    "    #print(f'covxminus is {np.shape(covxminus)}, should be 2x2x{k+1}')\n",
    "    \n",
    "    # 1c : Output predicition\n",
    "    \n",
    "    if k==0: \n",
    "        yhat = kfbat.OCVcurve.OCVfromSOC(xminus[0,k]) - R1*xminus[1,k] + kfbat.D*u[k]\n",
    "    else : \n",
    "        yhat = np.concatenate([yhat,kfbat.OCVcurve.OCVfromSOC(xminus[0,k]) - R1*xminus[1,k] + kfbat.D*u[k]]) \n",
    "    #print(f'y : {y[k]}')  \n",
    "    #print(f'yhat : {yhat[k]}')\n",
    "    #print(f'yhat is {np.shape(yhat)}, should be {k+1}')\n",
    "    \n",
    "    # 2 : Measurement update\n",
    "    \n",
    "    # 2a Kalman gain computation\n",
    "    \n",
    "    if k==0:\n",
    "        covxy = np.reshape(covxminus@kfbat.C.T,(2,1))\n",
    "        covy = np.reshape(kfbat.C@covxminus@kfbat.C.T + covv,1)\n",
    "        L = covxy/covy\n",
    "    else : \n",
    "        covxy = np.concatenate([covxy,np.reshape(covxminus[:,:,k]@kfbat.C.T,(2,1))],axis=1)\n",
    "        #print(f'covxy is {np.shape(covxy)}, should be {2,k+1}')\n",
    "        #print(np.shape(kfbat.C@covxminus[:,:,k]@kfbat.C.T + covv))\n",
    "        covy = np.concatenate([covy,np.reshape(kfbat.C@covxminus[:,:,k]@kfbat.C.T + covv,1)])\n",
    "        L = np.concatenate([L,covxy/covy],axis=1)\n",
    "    #print(f'covy is {np.shape(covy)}, should be {k+1}')\n",
    "    \n",
    "    #print(f'covxy = {covxy[:,k]}')      \n",
    "    #print(f'Lk={np.reshape(L[:,-1],(2,1))}')\n",
    "    \n",
    "    #print(f'L is {np.shape(L)}, should be 2x{k+1}')\n",
    "          \n",
    "    # 2b State estimate correction\n",
    "          \n",
    "    inno = y[k] - yhat[k]\n",
    "    #print(f'Innovation : {inno}')\n",
    "    \n",
    "    if k==0:\n",
    "        xplus = xplus0  \n",
    "    else : \n",
    "        xplus = np.concatenate([xplus,np.reshape(xminus[:,k],(2,1)) + np.reshape(L[:,k]*inno,(2,1))],axis=1) \n",
    "    #print(f'xplus is {np.shape(xplus)}, should be 2x{k+1}')\n",
    "    \n",
    "    # 2c State covariance a posteriori \n",
    "    if k==0: \n",
    "          covxplus = covxminus - L*kfbat.C@covxminus\n",
    "    else :\n",
    "        covxplus = np.dstack([covxplus,covxminus[:,:,k] - L[:,k]*kfbat.C@covxminus[:,:,-1]])\n",
    "        #print(covxplus[:,:,k])\n",
    "    #print(f'covxplus is {np.shape(covxplus)}, should be 2x2x{k+1}')    \n",
    "    "
   ]
  },
  {
   "cell_type": "code",
   "execution_count": null,
   "metadata": {},
   "outputs": [],
   "source": [
    "prop_cycle = plt.rcParams['axes.prop_cycle']\n",
    "colors = prop_cycle.by_key()['color']\n",
    "\n",
    "plt.figure()\n",
    "plt.subplot(311)\n",
    "plt.plot(battery.simz[:n+1],'.-')\n",
    "plt.plot(xminus[0,:],linestyle='-.')\n",
    "plt.plot(xminus[0,:]+covxminus[0,0,:],color=colors[1],linewidth=0.7)\n",
    "plt.plot(xminus[0,:]-covxminus[0,0,:],color=colors[1],linewidth=0.7)\n",
    "#plt.plot(xplus[0,:],'.-')\n",
    "plt.ylabel('state of charge')\n",
    "plt.grid()\n",
    "plt.subplot(312)\n",
    "plt.plot(battery.simi1[:n+1],'.-',label='sim')\n",
    "plt.plot(xplus[1,:],'-.',color = colors[1],label='KF')\n",
    "plt.plot(xplus[1,:]+covxplus[1,1,:],color=colors[1],linewidth=0.7)\n",
    "plt.plot(xplus[1,:]-covxplus[1,1,:],color=colors[1],linewidth=0.7)\n",
    "plt.legend()\n",
    "plt.ylabel('current through R1')\n",
    "plt.grid()\n",
    "plt.subplot(313)\n",
    "plt.plot(battery.simv[:n+1],'.-',label='sim')\n",
    "plt.plot(yhat,'-.')\n",
    "plt.plot(yhat+covy,color=colors[1],linewidth=0.7)\n",
    "plt.plot(yhat-covy,color=colors[1],linewidth=0.7)\n",
    "plt.xlabel('iterations')\n",
    "plt.ylabel('terminal voltage')\n",
    "plt.grid()"
   ]
  },
  {
   "cell_type": "code",
   "execution_count": null,
   "metadata": {},
   "outputs": [],
   "source": [
    "norm_covxminus = []\n",
    "norm_covxplus = []\n",
    "for k in range(np.shape(covxminus)[2]):\n",
    "    norm_covxminus.append(np.linalg.eig(covxminus[:,:,k])[0])\n",
    "    norm_covxplus.append(np.linalg.eig(covxplus[:,:,k])[0])    "
   ]
  },
  {
   "cell_type": "code",
   "execution_count": null,
   "metadata": {},
   "outputs": [],
   "source": [
    "plt.figure()\n",
    "plt.subplot(311)\n",
    "plt.plot(norm_covxminus,':',label='covxminus')\n",
    "plt.plot(norm_covxplus,label='covxplus',alpha=0.7)\n",
    "plt.legend()\n",
    "plt.grid()\n",
    "plt.subplot(312)\n",
    "plt.plot(covy,label='covy')\n",
    "plt.legend()\n",
    "plt.grid()\n",
    "plt.subplot(313)\n",
    "plt.plot(covxy[0,:],label='cov(z,y)')\n",
    "plt.plot(covxy[1,:],label='cov(i1,y)')\n",
    "plt.legend()\n",
    "plt.grid()\n",
    "plt.show()"
   ]
  },
  {
   "cell_type": "markdown",
   "metadata": {},
   "source": [
    "The second eigenvalue of covx does not change with the meausrement update, while the first one remains almost constant, even if systematically downed by 0.9 by the meausrement update."
   ]
  },
  {
   "cell_type": "code",
   "execution_count": null,
   "metadata": {},
   "outputs": [],
   "source": [
    "battery.kfinit()\n",
    "plt.figure()\n",
    "plt.plot(voltage)\n",
    "plt.grid()\n",
    "for k in range(len(current)):\n",
    "    battery.kfupdate(current[k],voltage[k])\n",
    "    plt.plot(k,battery.yhat,'r.',markersize=.4)\n",
    "    #print(battery.yhat)\n"
   ]
  },
  {
   "cell_type": "code",
   "execution_count": null,
   "metadata": {},
   "outputs": [],
   "source": [
    "battery.kfinit()\n",
    "plt.figure()\n",
    "plt.grid()\n",
    "for k in range(len(current)):\n",
    "    battery.kfupdate(current[k],vsim[k])\n",
    "    plt.plot(k,battery.xhat[0],'r.',markersize=.4)\n",
    "    #print(battery.yhat)\n"
   ]
  },
  {
   "cell_type": "code",
   "execution_count": null,
   "metadata": {},
   "outputs": [],
   "source": []
  }
 ],
 "metadata": {
  "kernelspec": {
   "display_name": "Python 3",
   "language": "python",
   "name": "python3"
  },
  "language_info": {
   "codemirror_mode": {
    "name": "ipython",
    "version": 3
   },
   "file_extension": ".py",
   "mimetype": "text/x-python",
   "name": "python",
   "nbconvert_exporter": "python",
   "pygments_lexer": "ipython3",
   "version": "3.7.4"
  }
 },
 "nbformat": 4,
 "nbformat_minor": 2
}
