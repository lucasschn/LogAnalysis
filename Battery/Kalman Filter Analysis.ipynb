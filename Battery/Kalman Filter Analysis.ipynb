{
 "cells": [
  {
   "cell_type": "code",
   "execution_count": 1,
   "metadata": {},
   "outputs": [],
   "source": [
    "import csv \n",
    "import numpy as np\n",
    "import pandas as pd\n",
    "import sys\n",
    "import platform\n",
    "system = platform.system()\n",
    "if system =='Linux':\n",
    "    sys.path.append('/home/lucas/Documents/Log_Analysis/Battery')\n",
    "elif system =='Darwin':\n",
    "    sys.path.append('/Users/Lucas/Documents/Travail/Yuneec/LogAnalysis')\n",
    "#sys.path.append('/Users/Lucas/Documents/Travail/Yuneec/LogAnalysis/Battery')\n",
    "from battery import OCVcurve, Thevenin\n",
    "import analog\n",
    "from scipy.interpolate import interp1d as interp1d\n",
    "import matplotlib\n",
    "import matplotlib.pyplot as plt\n",
    "%matplotlib notebook"
   ]
  },
  {
   "cell_type": "code",
   "execution_count": 2,
   "metadata": {},
   "outputs": [],
   "source": [
    "path2curve = 'Battery 9 (RIP)/Discharge 200mA/SOCvsOCV_discharge200mA.csv'\n",
    "curve = OCVcurve(path2curve)"
   ]
  },
  {
   "cell_type": "markdown",
   "metadata": {},
   "source": [
    "### Import the test file"
   ]
  },
  {
   "cell_type": "code",
   "execution_count": 3,
   "metadata": {},
   "outputs": [
    {
     "name": "stdout",
     "output_type": "stream",
     "text": [
      "/home/lucas/Documents/Log_Analysis/Logs/KF Testing/Donald Trump//log_107_2019-11-13-14-10-02.ulg\n",
      "dict_keys(['time_vlp', 'x', 'y', 'z', 'vx', 'vy', 'vz', 'time_bs', 'n_cells', 'battery_current', 'battery_filtered_current', 'battery_voltage', 'battery_filtered_voltage', 'discharged_mah', 'remaining'])\n"
     ]
    },
    {
     "ename": "KeyError",
     "evalue": "'kalman_gain'",
     "output_type": "error",
     "traceback": [
      "\u001b[0;31m---------------------------------------------------------------------------\u001b[0m",
      "\u001b[0;31mKeyError\u001b[0m                                  Traceback (most recent call last)",
      "\u001b[0;32m<ipython-input-3-a965d55530c1>\u001b[0m in \u001b[0;36m<module>\u001b[0;34m\u001b[0m\n\u001b[1;32m     19\u001b[0m \u001b[0mn_cells\u001b[0m \u001b[0;34m=\u001b[0m \u001b[0minfo\u001b[0m\u001b[0;34m[\u001b[0m\u001b[0;34m'n_cells'\u001b[0m\u001b[0;34m]\u001b[0m\u001b[0;34m\u001b[0m\u001b[0;34m\u001b[0m\u001b[0m\n\u001b[1;32m     20\u001b[0m \u001b[0mvoltage\u001b[0m \u001b[0;34m=\u001b[0m \u001b[0minfo\u001b[0m\u001b[0;34m[\u001b[0m\u001b[0;34m'battery_voltage'\u001b[0m\u001b[0;34m]\u001b[0m\u001b[0;34m/\u001b[0m\u001b[0mn_cells\u001b[0m\u001b[0;34m\u001b[0m\u001b[0;34m\u001b[0m\u001b[0m\n\u001b[0;32m---> 21\u001b[0;31m \u001b[0mkalman_gain\u001b[0m \u001b[0;34m=\u001b[0m \u001b[0minfo\u001b[0m\u001b[0;34m[\u001b[0m\u001b[0;34m'kalman_gain'\u001b[0m\u001b[0;34m]\u001b[0m\u001b[0;34m\u001b[0m\u001b[0;34m\u001b[0m\u001b[0m\n\u001b[0m\u001b[1;32m     22\u001b[0m \u001b[0mkalman_gain\u001b[0m \u001b[0;34m=\u001b[0m \u001b[0mnp\u001b[0m\u001b[0;34m.\u001b[0m\u001b[0msqueeze\u001b[0m\u001b[0;34m(\u001b[0m\u001b[0mkalman_gain\u001b[0m\u001b[0;34m)\u001b[0m\u001b[0;34m\u001b[0m\u001b[0;34m\u001b[0m\u001b[0m\n\u001b[1;32m     23\u001b[0m \u001b[0mcovx\u001b[0m \u001b[0;34m=\u001b[0m \u001b[0minfo\u001b[0m\u001b[0;34m[\u001b[0m\u001b[0;34m'covx'\u001b[0m\u001b[0;34m]\u001b[0m\u001b[0;34m\u001b[0m\u001b[0;34m\u001b[0m\u001b[0m\n",
      "\u001b[0;31mKeyError\u001b[0m: 'kalman_gain'"
     ]
    }
   ],
   "source": [
    "if system == 'Linux':\n",
    "    folder = '/home/lucas/Documents/Log_Analysis/Logs/KF Testing/Donald Trump/'\n",
    "elif system == 'Darwin':\n",
    "    folder = '/Users/Lucas/Documents/Travail/Yuneec/Logs/KF Testing/Donald Trump/'\n",
    "    \n",
    "log_file = analog.pathfromQGC(folder,index=107)\n",
    "\n",
    "#log_file = analog.pathfromgazebo('2019-10-29','09_24_54',firmware='yuneec')\n",
    "\n",
    "print(log_file)\n",
    "info = analog.logextract(log_file,['battery_status','vehicle_local_position'])\n",
    "print(info.keys())\n",
    "\n",
    "# From battery_status\n",
    "current = info['battery_current']\n",
    "current_filtered = info['battery_filtered_current']\n",
    "SOC = info['remaining']\n",
    "time = info['time_bs']\n",
    "n_cells = info['n_cells']\n",
    "voltage = info['battery_voltage']/n_cells\n",
    "kalman_gain = info['kalman_gain']\n",
    "kalman_gain = np.squeeze(kalman_gain)\n",
    "covx = info['covx']\n",
    "innovation = info['innovation']\n",
    "iR1 = info['iR1']\n",
    "\n",
    "# discard timestamps with non-initalized battery\n",
    "current = current[voltage>0]\n",
    "current_filtered = current_filtered[voltage>0]\n",
    "SOC = SOC[voltage>0]\n",
    "time = time[voltage>0]\n",
    "kalman_gain = kalman_gain[:,voltage>0]\n",
    "covx = covx[:,:,voltage>0]\n",
    "innovation = innovation[voltage>0]\n",
    "iR1 = iR1[voltage>0]\n",
    "voltage = voltage[voltage>0] # to be done at the end\n",
    "print(len(time))\n",
    "\n",
    "# From vehicle_local_position\n",
    "x = info['x']\n",
    "y = info['y']\n",
    "z = info['z']\n",
    "time_vlp = info['time_vlp']\n",
    "\n",
    "\n",
    "\n"
   ]
  },
  {
   "cell_type": "markdown",
   "metadata": {},
   "source": [
    "# Kalman filter analysis"
   ]
  },
  {
   "cell_type": "markdown",
   "metadata": {},
   "source": [
    "## Vehicle position"
   ]
  },
  {
   "cell_type": "code",
   "execution_count": null,
   "metadata": {},
   "outputs": [],
   "source": [
    "plt.figure()\n",
    "plt.plot(time_vlp,x,label='x')\n",
    "plt.plot(time_vlp,y,label='y')\n",
    "plt.plot(time_vlp,z,label='z')\n",
    "plt.xlabel('time (s)')\n",
    "plt.legend()\n",
    "plt.grid()"
   ]
  },
  {
   "cell_type": "markdown",
   "metadata": {},
   "source": [
    "## Battery in & out"
   ]
  },
  {
   "cell_type": "code",
   "execution_count": null,
   "metadata": {},
   "outputs": [],
   "source": [
    "current_filtered_new = []\n",
    "current_filtered_new = np.array(current[0:2])\n",
    "\n",
    "for k in range(2,len(current)):\n",
    "    current_filtered_new = np.append(current_filtered_new,0.02*current[k]+0.98*current_filtered_new[k-1]+0.00*current_filtered_new[k-2])"
   ]
  },
  {
   "cell_type": "code",
   "execution_count": null,
   "metadata": {},
   "outputs": [],
   "source": [
    "%matplotlib notebook\n",
    "plt.subplot(121)\n",
    "plt.plot(time,voltage,label='real')\n",
    "plt.plot(time,voltage-innovation,color='C2',linestyle='-',label='KF')\n",
    "plt.legend()\n",
    "plt.grid()\n",
    "plt.ylabel('Cell terminal voltage (V)')\n",
    "\n",
    "plt.subplot(122)\n",
    "plt.plot(time,current,label='unfiltered')\n",
    "plt.plot(time,current_filtered,label='filtered')\n",
    "#plt.plot(time,current_filtered_new,label='filtered new')\n",
    "plt.legend()\n",
    "plt.grid()\n",
    "plt.ylabel('Current (A)')\n",
    "plt.show()\n",
    "print(voltage[0])"
   ]
  },
  {
   "cell_type": "code",
   "execution_count": null,
   "metadata": {},
   "outputs": [],
   "source": [
    "current[time>100][0]\n",
    "print((4.16-4.08)/5.35)"
   ]
  },
  {
   "cell_type": "markdown",
   "metadata": {},
   "source": [
    "## State estimation"
   ]
  },
  {
   "cell_type": "code",
   "execution_count": null,
   "metadata": {},
   "outputs": [],
   "source": [
    "plt.figure()\n",
    "plt.plot(time,SOC)\n",
    "plt.plot(time,innovation/np.max(1),linestyle='-',alpha=0.7)\n",
    "plt.axhline(0,color='r')\n",
    "plt.axhline(1,color='r')\n",
    "plt.xlabel('time (s)')\n",
    "plt.ylabel('SOC')\n",
    "plt.grid()\n",
    "plt.show()"
   ]
  },
  {
   "cell_type": "markdown",
   "metadata": {},
   "source": [
    "Changes in SOC are due to model innacuracies. The KF tries to modify the states to make the estimate output approach the sensed one."
   ]
  },
  {
   "cell_type": "code",
   "execution_count": null,
   "metadata": {},
   "outputs": [],
   "source": [
    "print(max(innovation[:int(len(innovation)/2)]))\n",
    "argmax_inno = np.argmax(innovation[:int(len(innovation)/2)])\n",
    "print(f'SOC at first voltage drop : {SOC[argmax_inno:argmax_inno+50]}')\n"
   ]
  },
  {
   "cell_type": "markdown",
   "metadata": {},
   "source": [
    "# Covariance of states"
   ]
  },
  {
   "cell_type": "code",
   "execution_count": null,
   "metadata": {},
   "outputs": [],
   "source": [
    "# initialization is done at (0.3,0);(0,0.1)\n",
    "\n",
    "plt.figure()\n",
    "plt.suptitle('covx')\n",
    "\n",
    "plt.subplot(221)\n",
    "plt.plot(time,covx[0,0])\n",
    "plt.grid()\n",
    "\n",
    "plt.subplot(222)\n",
    "plt.plot(time,covx[0,1])\n",
    "plt.grid()\n",
    "\n",
    "plt.subplot(223)\n",
    "plt.plot(time,covx[1,0])\n",
    "plt.xlabel('time (s)')\n",
    "plt.grid()\n",
    "\n",
    "plt.subplot(224)\n",
    "plt.plot(time,covx[1,1])\n",
    "plt.xlabel('time (s)')\n",
    "plt.grid()\n",
    "\n",
    "# must be symetric and positive-definite at all times \n",
    "\n",
    "print(covx[:,:,0])\n",
    "print(covx[:,:,-1])"
   ]
  },
  {
   "cell_type": "markdown",
   "metadata": {},
   "source": [
    "## Kalman gain & innovation"
   ]
  },
  {
   "cell_type": "code",
   "execution_count": null,
   "metadata": {},
   "outputs": [],
   "source": [
    "measurement_update0 = []\n",
    "measurement_update1 = []\n",
    "\n",
    "for k in range(len(innovation)):\n",
    "    measurement_update0 = np.append(measurement_update0,kalman_gain[0,k]*innovation[k])\n",
    "    measurement_update1 = np.append(measurement_update1,kalman_gain[1,k]*innovation[k])"
   ]
  },
  {
   "cell_type": "code",
   "execution_count": null,
   "metadata": {},
   "outputs": [],
   "source": [
    "%matplotlib notebook\n",
    "\n",
    "plt.figure()\n",
    "plt.subplot(121)\n",
    "plt.title('Kalman gain (0=discard measurement)')\n",
    "plt.plot(time,kalman_gain[0,:].transpose(),label='L(0)')\n",
    "plt.plot(time,kalman_gain[1,:].transpose(),label='L(1)')\n",
    "plt.grid()\n",
    "plt.legend()\n",
    "\n",
    "plt.subplot(122)\n",
    "plt.title('Innovation')\n",
    "plt.plot(time,innovation) # inno = y - yhat\n",
    "plt.grid()\n",
    "\n",
    "plt.figure()\n",
    "plt.suptitle('Measurement correction xhat(0)')\n",
    "plt.subplot(121)\n",
    "plt.plot(time,measurement_update0,label='meas. corr.')\n",
    "plt.grid()\n",
    "plt.subplot(122)\n",
    "plt.semilogy(time,measurement_update0,label='meas. corr.')\n",
    "plt.semilogy(time,SOC-SOC[0],alpha=0.5,label='SOC')\n",
    "plt.legend()\n",
    "plt.grid()\n",
    "\n",
    "plt.figure()\n",
    "plt.suptitle('Measurement correction xhat(1)')\n",
    "plt.subplot(121)\n",
    "plt.plot(time,measurement_update1,label='meas. corr.')\n",
    "plt.grid()\n",
    "plt.subplot(122)\n",
    "plt.semilogy(time,measurement_update1,label='meas. corr.')\n",
    "plt.semilogy(time,SOC-SOC[0],alpha=0.5,label='SOC')\n",
    "#plt.legend()\n",
    "plt.grid()"
   ]
  },
  {
   "cell_type": "code",
   "execution_count": null,
   "metadata": {},
   "outputs": [],
   "source": [
    "y = voltage\n",
    "\n",
    "plt.figure()\n",
    "plt.plot(time,y,label='output')\n",
    "plt.plot(time,y - innovation,label='c++ kf estimate')\n",
    "plt.grid()\n",
    "plt.legend()\n",
    "plt.show()\n",
    "print(voltage[0])\n",
    "print(current[0])"
   ]
  },
  {
   "cell_type": "markdown",
   "metadata": {},
   "source": [
    "# Simulation\n"
   ]
  },
  {
   "cell_type": "code",
   "execution_count": null,
   "metadata": {},
   "outputs": [],
   "source": [
    "ECparams = pd.read_csv('ECparams.csv')\n",
    "R0 = float(ECparams['R0'])\n",
    "R0 = 0.015\n",
    "R1 = float(ECparams['R1'])\n",
    "R1 = 0.01\n",
    "C1 = float(ECparams['C1'])\n",
    "C1 = 1100\n",
    "print([R0,R1,C1])"
   ]
  },
  {
   "cell_type": "markdown",
   "metadata": {},
   "source": [
    "### Tune some more simulation parameters"
   ]
  },
  {
   "cell_type": "code",
   "execution_count": null,
   "metadata": {},
   "outputs": [],
   "source": [
    "Q = 6500*3.6 # has to be in Coulombs\n",
    "eta = 1\n",
    "# z0 = curve.SOCfromOCV(np.mean(voltage[0])+R0*current[0]) # taken from log to be tested\n",
    "z0 = np.mean(SOC[0:100])\n",
    "print(f'z0 = {z0}')\n",
    "simbat = Thevenin(z0,Q,curve,R0,R1,C1)"
   ]
  },
  {
   "cell_type": "code",
   "execution_count": null,
   "metadata": {},
   "outputs": [],
   "source": [
    "print(f'True measured initital voltage is {voltage[0]:.2f} V')\n",
    "print(f'True initial OCV would then be {voltage[0]+R0*current[0]:.2f} V, because initial current is {current[0]:.2f} A')"
   ]
  },
  {
   "cell_type": "markdown",
   "metadata": {},
   "source": [
    "### Run the simulation using the state-space model"
   ]
  },
  {
   "cell_type": "code",
   "execution_count": null,
   "metadata": {
    "scrolled": false
   },
   "outputs": [],
   "source": [
    "%matplotlib notebook\n",
    "vsim = simbat.simulate(time,current,plot=False)\n",
    "simbat.statespace(np.mean(np.diff(time)))\n",
    "vlsim = simbat.lsim(time,current,curve)\n",
    "varsimv = simbat.varsim(time,current,curve)\n",
    "std = 0.023633527\n",
    "\n",
    "plt.figure()\n",
    "plt.subplot(211)\n",
    "plt.fill_between(time,voltage + 2*std, voltage - 2*std,color='C0', alpha=.5)\n",
    "plt.plot(time,voltage,color='C0',label='real')\n",
    "\n",
    "\n",
    "plt.plot(time,vsim,color='C1',label='sim',alpha=1)\n",
    "#plt.plot(time,vlsim+3.6,label='linsim')\n",
    "plt.plot(time,varsimv,color='C2',label='varsim',linestyle=':')\n",
    "plt.legend()\n",
    "plt.grid()\n",
    "plt.ylabel('Cell voltage (V)')\n",
    "plt.subplot(212)\n",
    "plt.plot(time,current)\n",
    "plt.xlabel('time (s)')\n",
    "plt.ylabel('Current (A)')\n",
    "plt.grid()\n",
    "plt.show()\n",
    "\n",
    "plt.figure()\n",
    "plt.subplot(211)\n",
    "plt.plot(time,simbat.simz[:-1],label='sim')\n",
    "plt.ylabel('SOC (-)')\n",
    "plt.grid()\n",
    "plt.subplot(212)\n",
    "plt.plot(time,simbat.simi1[:-1],label='sim')\n",
    "plt.xlabel('time (s)')\n",
    "plt.ylabel('iR1 (A)')\n",
    "plt.grid()"
   ]
  },
  {
   "cell_type": "code",
   "execution_count": null,
   "metadata": {},
   "outputs": [],
   "source": [
    "xplus0 = np.array([[z0],[0.]]) # is a stack of 2x1 arrays = a 2xk array\n",
    "#covxplus0 = np.array([[1e-2,0.],[0., 0.]]) # is a stack of 2x2 arrays\n",
    "covxplus0 = np.array([[0.,0.],[0., 0.]])\n",
    "#covw = np.array([[1e-4, 0.],[0., 1e-4]])\n",
    "covw = np.array([[1e-3, 0.],[0., 1]]) # is a constant 2x2 array\n",
    "covv = 0.5017 + 0.5# is a constant 1x1 array\n",
    "\n",
    "xminus = np.array([]) # is a stack of 2x1 arrays = a 2xk array\n",
    "covmxminus = np.array([]) # is a stack of 2x2 arrays\n",
    "yhat = np.array([]) # is a stack of 1x1 arrays = a 1-D array\n",
    "xplus = np.array([]) # is a stack of 2x1 arrays = a 2xk array\n",
    "covxplus = np.array([]) # is a stack of 2x2 arrays\n",
    "covxy = np.array([]) # is a stack of 2x1 arrays = a 2xk array\n",
    "covy = np.array([]) # is a stack of 1x1 arrays = a 1-D array\n",
    "L = np.array([]) # is a stack of stack of 2x1 arrays = a 1-D array\n",
    "\n",
    "u = current # is a stack of 1x1 arrays = a 1-D array\n",
    "y = voltage # is a stack of 1x1 arrays = a 1-D array\n",
    "print(z0)\n",
    "kfbat = Thevenin(z0,Q,curve,R0,R1,C1)"
   ]
  },
  {
   "cell_type": "code",
   "execution_count": null,
   "metadata": {},
   "outputs": [],
   "source": [
    "n = len(time-1)\n",
    "for k in range(len(y[:n+1])):\n",
    "    #print(f'\\n New iteration k={k}')\n",
    "    \n",
    "    if k == 0: \n",
    "        kfbat.reset(R0,R1,C1,xhat0[0])\n",
    "    else: \n",
    "        kfbat.reset(R0,R1,C1,xhat[0,k-1])\n",
    "    kfbat.statespace(np.mean(np.diff(time)))\n",
    "    \n",
    "    # 1 : Prediction update\n",
    "    \n",
    "    # 1c : Output predicition\n",
    "    \n",
    "    if k==0: \n",
    "        yhat = kfbat.OCVcurve.OCVfromSOC(xhat0[0]) - R1*xhat0[1]\n",
    "    else : \n",
    "        yhat = np.concatenate([yhat,kfbat.OCVcurve.OCVfromSOC(xhat[0,k-1]) - R1*xhat[1,k-1] + kfbat.D*u[k-1]])\n",
    "    \n",
    "    inno = y[k] - yhat[k]\n",
    "    \n",
    "    if inno > 0.05:\n",
    "        inno = 0.05\n",
    "    elif inno < -0.05:\n",
    "        inno = -0.05\n",
    "            \n",
    "    #print(f'Innovation : {inno}')\n",
    "    \n",
    "    \n",
    "    # 1b State covariance a priori\n",
    "    \n",
    "    if k==0 :\n",
    "        covx = kfbat.A@covx0@kfbat.A.T + covw\n",
    "    elif k==1: \n",
    "        covx = np.dstack([covx,kfbat.A@covx@kfbat.A.T + covw])\n",
    "    else :\n",
    "        covx = np.dstack([covx,kfbat.A@covx[:,:,-1]@kfbat.A.T + covw])\n",
    "\n",
    "    if k==0:\n",
    "        covxy = np.reshape(covx@kfbat.C.T,(2,1))\n",
    "        covy = np.reshape(kfbat.C@covx@kfbat.C.T + covv,1)\n",
    "        np.reshape(covx@kfbat.C.T,(2,1))\n",
    "    else : \n",
    "        covxy = np.concatenate([covxy,np.reshape(covx[:,:,k]@kfbat.C.T,(2,1))],axis=1)\n",
    "        #print(f'covxy is {np.shape(covxy)}, should be {2,k+1}')\n",
    "        #print(np.shape(kfbat.C@covx[:,:,k]@kfbat.C.T + covv))\n",
    "        covy = np.concatenate([covy,np.reshape(kfbat.C@covx[:,:,k]@kfbat.C.T + covv,1)])\n",
    "    \n",
    "    L = covxy/covy\n",
    "    #print(f'covy is {np.shape(covy)}, should be {k+1}')\n",
    "    \n",
    "    #print(f'covxy = {covxy[:,k]}')      \n",
    "    #print(f'Lk={np.reshape(L[:,-1],(2,1))}')\n",
    "    \n",
    "    #print(f'L is {np.shape(L)}, should be 2x{k+1}')\n",
    "    \n",
    "    # 1a & 2b State estimate prediction and correction\n",
    "    \n",
    "    if k==0:\n",
    "        xhat = xhat0\n",
    "        #print(f'xhat is {np.shape(xhat)}, should be 2x{k+1}')\n",
    "    else : \n",
    "        alpha = np.reshape(kfbat.A@xhat[:,k-1],(2,1))\n",
    "        beta = kfbat.B*u[k-1]\n",
    "        xhat = np.concatenate([xhat,np.reshape(alpha + beta,(2,1)) + np.reshape(L[:,k]*inno,(2,1))],axis=1)\n",
    "        # xhat = np.concatenate([xhat,np.reshape(xhat[:,k],(2,1)) + np.reshape(kalman_gain[:,k]*innovation[k],(2,1))],axis=1)\n",
    "        # print(f'xhat is {np.shape(xhat)}, should be 2x{k+1}')\n",
    "        if xhat[0,k] > 1.0:\n",
    "            xhat[0,k] = 1.0\n",
    "        elif xhat[0,k] < 1e-3:\n",
    "            xhat[0,k] = 1e-3\n",
    "    \n",
    "    # 2c State covariance a posteriori \n",
    "    if k==0: \n",
    "        covx = covx - L*kfbat.C@covx\n",
    "    else :\n",
    "        covx = np.dstack([covx[:,:,:-1],covx[:,:,k] - L[:,k]*kfbat.C@covx[:,:,-1]])\n",
    "        # print(covx[:,:,k])\n",
    "    #print(f'covx is {np.shape(covx)}, should be 2x2x{k+1}')    \n",
    "    "
   ]
  },
  {
   "cell_type": "code",
   "execution_count": null,
   "metadata": {},
   "outputs": [],
   "source": [
    "plt.figure()\n",
    "\n",
    "plt.subplot(311)\n",
    "plt.plot(simbat.simz[:n+1],'.-',label='sim')\n",
    "plt.plot(xminus[0,:],linestyle='-.',label='python kf')\n",
    "plt.plot(xminus[0,:]+covxminus[0,0,:],color='C1',linewidth=0.7)\n",
    "plt.plot(xminus[0,:]-covxminus[0,0,:],color='C1',linewidth=0.7)\n",
    "#plt.plot(xplus[0,:],'.-')\n",
    "plt.legend()\n",
    "plt.ylabel('state of charge')\n",
    "plt.grid()\n",
    "\n",
    "plt.subplot(312)\n",
    "plt.plot(simbat.simi1[:n+1],'.-',label='sim')\n",
    "plt.plot(xplus[1,:],'-.',color='C1',label='KF')\n",
    "plt.plot(xplus[1,:]+covxplus[1,1,:],color='C1',linewidth=0.7)\n",
    "plt.plot(xplus[1,:]-covxplus[1,1,:],color='C1',linewidth=0.7)\n",
    "plt.ylabel('current through R1')\n",
    "plt.grid()\n",
    "\n",
    "plt.subplot(313)\n",
    "plt.plot(simbat.simv[:n+1],'.-',label='sim')\n",
    "plt.plot(yhat,'-.')\n",
    "plt.plot(yhat+covy,color='C1',linewidth=0.7)\n",
    "plt.plot(yhat-covy,color='C1',linewidth=0.7)\n",
    "plt.xlabel('iterations')\n",
    "plt.ylabel('terminal voltage')\n",
    "plt.grid()"
   ]
  },
  {
   "cell_type": "code",
   "execution_count": null,
   "metadata": {},
   "outputs": [],
   "source": [
    "print(kfbat.A)\n",
    "print(simbat.A)"
   ]
  },
  {
   "cell_type": "markdown",
   "metadata": {},
   "source": [
    "# Output comparison"
   ]
  },
  {
   "cell_type": "code",
   "execution_count": null,
   "metadata": {},
   "outputs": [],
   "source": [
    "plt.figure()\n",
    "plt.plot(time,y,label='sensor',alpha=1)\n",
    "plt.plot(simbat.simt,simbat.simv,label='sim',alpha=0.7)\n",
    "#plt.plot(simbat.simt[:n+1],yhat,label='python kf',linestyle='-')\n",
    "\n",
    "# plt.plot(simbat.simt[:n+1],yhat+covy,color='C2',linestyle=':')\n",
    "# plt.plot(simbat.simt[:n+1],yhat-covy,color='C2',linestyle=':')\n",
    "#plt.plot(time[:n+1],voltage[:n+1]-innovation[:n+1],label='c++ kf',linestyle='-')\n",
    "plt.grid()\n",
    "plt.legend()\n",
    "plt.show()"
   ]
  },
  {
   "cell_type": "markdown",
   "metadata": {},
   "source": [
    "Python Kalman filter performs well for output prediction -> the translation to state of charge does not work properly"
   ]
  },
  {
   "cell_type": "code",
   "execution_count": null,
   "metadata": {},
   "outputs": [],
   "source": [
    "plt.figure()\n",
    "plt.title('Predicted voltage drop in firmware')\n",
    "plt.plot(time,kfbat.OCVcurve.OCVfromSOC(SOC)-voltage[0],label='due to SOC')\n",
    "plt.plot(time,-R0*current,label='due to R0')\n",
    "plt.plot(time,-R1*iR1,label='due to R1')\n",
    "plt.plot(time,-R0*current-R1*iR1,label='due to R0 & R1')\n",
    "plt.xlabel('time (s)')\n",
    "plt.ylabel('Voltage drop')\n",
    "plt.grid()\n",
    "plt.legend()\n",
    "plt.show()"
   ]
  },
  {
   "cell_type": "code",
   "execution_count": null,
   "metadata": {},
   "outputs": [],
   "source": [
    "plt.figure()\n",
    "plt.plot(simbat.simt,simbat.simi,label='iR0 sim')\n",
    "plt.plot(simbat.simt[:n+1],xminus[1,:n+1],label='iR1 kf')\n",
    "plt.plot(simbat.simt[:n+1],xminus[1,:n+1]+covxminus[1,1,:],color='C1',linestyle=':')\n",
    "plt.plot(simbat.simt[:n+1],xminus[1,:n+1]-covxminus[1,1,:],color='C1',linestyle=':')\n",
    "plt.legend()\n",
    "plt.grid()"
   ]
  },
  {
   "cell_type": "markdown",
   "metadata": {},
   "source": [
    "# State of charge comparison"
   ]
  },
  {
   "cell_type": "markdown",
   "metadata": {},
   "source": [
    "## Comparison of Kalman filter results with simulation results"
   ]
  },
  {
   "cell_type": "code",
   "execution_count": null,
   "metadata": {},
   "outputs": [],
   "source": [
    "print(len(simbat.simt))\n",
    "print(len(simbat.simz))\n",
    "print(len(time))\n",
    "print(np.shape(L))"
   ]
  },
  {
   "cell_type": "code",
   "execution_count": null,
   "metadata": {},
   "outputs": [],
   "source": [
    "plt.figure()\n",
    "plt.plot(simbat.simt[:n+1],simbat.simz[:n],label='simulated state space')\n",
    "plt.plot(simbat.simt[:n+1],xplus[0,:],label='simulated kf')\n",
    "plt.plot(simbat.simt[:n+1],xplus[0,:]+covxplus[0,0,:],linestyle=':',color='C1')\n",
    "plt.plot(simbat.simt[:n+1],xplus[0,:]-covxplus[0,0,:],linestyle=':',color='C1')\n",
    "plt.xlabel('time (s)')\n",
    "plt.ylabel('SOC (-)')\n",
    "plt.axis([time[0], time[-1], 0, 1])\n",
    "plt.legend()\n",
    "plt.grid()\n",
    "plt.show()"
   ]
  },
  {
   "cell_type": "markdown",
   "metadata": {},
   "source": [
    "Real SOC is certainly more like the simulation one. How much off is the KF ?"
   ]
  },
  {
   "cell_type": "code",
   "execution_count": null,
   "metadata": {},
   "outputs": [],
   "source": [
    "plt.figure()\n",
    "plt.plot(time[:n+1],xplus[0,:]-simbat.simz[:n])\n",
    "print(f'Mean error is {np.mean(xplus[0,:]-simbat.simz[:n])}')\n",
    "print(f'Standard deviation is {np.std(xplus[0,:]-simbat.simz[:n])}')\n",
    "plt.grid()\n",
    "plt.title('KF error in SOC estimation (python)')\n",
    "plt.xlabel('time (s)')\n",
    "plt.ylabel('zhat-z')\n",
    "plt.show()\n",
    "print(time[xplus[0,:]>0.99])"
   ]
  },
  {
   "cell_type": "markdown",
   "metadata": {},
   "source": [
    "There is pike in SOC estimation of 15% arond 60s"
   ]
  },
  {
   "cell_type": "markdown",
   "metadata": {},
   "source": [
    "## Comparison of Kalman filter results with firmware ones"
   ]
  },
  {
   "cell_type": "code",
   "execution_count": null,
   "metadata": {
    "scrolled": false
   },
   "outputs": [],
   "source": [
    "plt.figure()\n",
    "plt.plot(time,SOC,label='c++ (log)')\n",
    "plt.plot(time[:n+1],xplus[0,:],label='python (sim)')\n",
    "plt.plot(simbat.simt[:n+1],xplus[0,:]+covxplus[0,0,:],linestyle=':',color='C1')\n",
    "plt.plot(simbat.simt[:n+1],xplus[0,:]-covxplus[0,0,:],linestyle=':',color='C1')\n",
    "plt.xlabel('time (s)')\n",
    "plt.ylabel('SOC (-)')\n",
    "plt.legend()\n",
    "plt.grid()"
   ]
  },
  {
   "cell_type": "markdown",
   "metadata": {},
   "source": [
    "# Looking for origin of chage in SOC"
   ]
  },
  {
   "cell_type": "markdown",
   "metadata": {},
   "source": [
    "## Comparison between state prediction and measurement update"
   ]
  },
  {
   "cell_type": "code",
   "execution_count": null,
   "metadata": {},
   "outputs": [],
   "source": [
    "plt.figure()\n",
    "plt.plot(time,xminus[0,:],label='prediction')\n",
    "plt.plot(time,xplus[0,:],label='meas. corr.')\n",
    "plt.xlabel('time (s)')\n",
    "plt.ylabel('SOC')\n",
    "plt.legend()\n",
    "plt.grid()"
   ]
  },
  {
   "cell_type": "markdown",
   "metadata": {},
   "source": [
    "The measurement correction leads and drives the changes !"
   ]
  },
  {
   "cell_type": "markdown",
   "metadata": {},
   "source": [
    "## Kalman gain & innovation comparison"
   ]
  },
  {
   "cell_type": "code",
   "execution_count": null,
   "metadata": {},
   "outputs": [],
   "source": [
    "Ly0 = []\n",
    "Ly1 = []\n",
    "for k in range(n):\n",
    "    Ly0 = np.append(Ly0,L[0,k]*(y[k]-yhat[k]))\n",
    "    Ly1 = np.append(Ly1,L[1,k]*(y[k]-yhat[k]))"
   ]
  },
  {
   "cell_type": "code",
   "execution_count": null,
   "metadata": {},
   "outputs": [],
   "source": [
    "%matplotlib notebook\n",
    "\n",
    "plt.figure()\n",
    "plt.subplot(121)\n",
    "plt.title('Kalman gain (0=discard measurement)')\n",
    "plt.plot(time,kalman_gain[0,:].transpose(),label='firmware')\n",
    "plt.plot(time,L[0,:],label='python')\n",
    "plt.grid()\n",
    "plt.legend()\n",
    "\n",
    "plt.subplot(122)\n",
    "plt.title('Innovation')\n",
    "plt.plot(time,innovation,label='firmware')\n",
    "plt.plot(time,y-yhat,label='python') # inno = y - yhat\n",
    "plt.legend()\n",
    "plt.grid()\n",
    "\n",
    "plt.figure()\n",
    "plt.subplot(121)\n",
    "plt.title('Measurement correction on SOC')\n",
    "plt.plot(time[:n],Ly0,label='c++')\n",
    "plt.plot(time[:],measurement_update0,label='python')\n",
    "plt.grid()\n",
    "plt.legend()\n",
    "\n",
    "plt.subplot(122)\n",
    "plt.title('Measurement correction on iR1')\n",
    "plt.plot(time[:n],Ly1,label='c++')\n",
    "plt.plot(time[:],measurement_update1,label='python')\n",
    "plt.grid()\n",
    "plt.legend()\n",
    "plt.show()"
   ]
  },
  {
   "cell_type": "code",
   "execution_count": null,
   "metadata": {},
   "outputs": [],
   "source": [
    "plt.figure()\n",
    "plt.subplot(211)\n",
    "plt.ylabel('Measurement correction on SOC')\n",
    "plt.plot(time[:],measurement_update0,label='c++')\n",
    "plt.plot(time[:n],Ly0,label='python')\n",
    "plt.grid()\n",
    "plt.legend()\n",
    "\n",
    "plt.subplot(212)\n",
    "plt.ylabel('innovation')\n",
    "plt.xlabel('time (s)')\n",
    "plt.plot(time[:],innovation,label='c++')\n",
    "plt.plot(time[:n+1],y[:n+1]-yhat,label='python')\n",
    "plt.grid()"
   ]
  },
  {
   "cell_type": "code",
   "execution_count": null,
   "metadata": {},
   "outputs": [],
   "source": [
    "int_meascorr0 = np.cumsum(measurement_update0)[:-1]*np.diff(time)\n",
    "plt.figure()\n",
    "plt.title('Integrated measurement correction impact')\n",
    "plt.plot(time[:-1],int_meascorr0)\n",
    "plt.grid()"
   ]
  },
  {
   "cell_type": "markdown",
   "metadata": {},
   "source": [
    "## SOC prediction due to state-space equation"
   ]
  },
  {
   "cell_type": "code",
   "execution_count": null,
   "metadata": {},
   "outputs": [],
   "source": [
    "wrong_timedelta = time[1:] #what is in logs up to 91\n",
    "timedelta = np.diff(time)\n",
    "A11 = [np.exp(-0.01/(R1*C1))]\n",
    "A11 = A11 + list(np.exp(-timedelta/(R1*C1)))\n",
    "print(Q/3.6)\n",
    "B0 = [0.01/Q]\n",
    "B0 = B0 + list(timedelta/Q)\n",
    "wrong_B0 = [0.01/Q] + list(wrong_timedelta/Q)\n",
    "print(B0[600])"
   ]
  },
  {
   "cell_type": "code",
   "execution_count": null,
   "metadata": {},
   "outputs": [],
   "source": [
    "plt.figure()\n",
    "plt.subplot(211)\n",
    "plt.plot(time,measurement_update0*100)\n",
    "plt.title('Correction')\n",
    "plt.ylabel('meas. update impact on SOC (%)')\n",
    "plt.grid() \n",
    "\n",
    "plt.subplot(212)\n",
    "plt.plot(time,B0*current*100)\n",
    "plt.title('Prediction')\n",
    "plt.ylabel('current impact on SOC (%)')\n",
    "plt.xlabel('time (s)')\n",
    "plt.grid()"
   ]
  },
  {
   "cell_type": "markdown",
   "metadata": {},
   "source": [
    "current is the only thing that makes the SOC predicition go up ! 30% is due to wrong B matrix due to wrong dt"
   ]
  }
 ],
 "metadata": {
  "kernelspec": {
   "display_name": "Python 3",
   "language": "python",
   "name": "python3"
  },
  "language_info": {
   "codemirror_mode": {
    "name": "ipython",
    "version": 3
   },
   "file_extension": ".py",
   "mimetype": "text/x-python",
   "name": "python",
   "nbconvert_exporter": "python",
   "pygments_lexer": "ipython3",
   "version": "3.7.4"
  }
 },
 "nbformat": 4,
 "nbformat_minor": 2
}
