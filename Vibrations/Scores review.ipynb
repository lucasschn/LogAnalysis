{
 "cells": [
  {
   "cell_type": "code",
   "execution_count": 22,
   "metadata": {},
   "outputs": [],
   "source": [
    "import numpy as np\n",
    "import pandas as pd\n",
    "import csv \n",
    "import matplotlib.pyplot as plt\n",
    "\n",
    "import sys \n",
    "sys.path.append('/home/lucas/Documents/Log_Analysis')\n",
    "\n",
    "from analog import logextract as logextract, logscore as logscore"
   ]
  },
  {
   "cell_type": "markdown",
   "metadata": {},
   "source": [
    "# Scores Review"
   ]
  },
  {
   "cell_type": "code",
   "execution_count": 23,
   "metadata": {},
   "outputs": [
    {
     "name": "stdout",
     "output_type": "stream",
     "text": [
      "/home/lucas/Documents/Log_Analysis/Logs/log_38_2019-8-27-14-18-14.ulg\n"
     ]
    }
   ],
   "source": [
    "# for logs imported with QGC\n",
    "log_path = '/home/lucas/Documents/Log_Analysis/Logs'\n",
    "log_index = '38'\n",
    "log_date = '2019-8-27'\n",
    "log_time = '14-18-14'\n",
    "log_file = f'{log_path}/log_{log_index}_{log_date}-{log_time}.ulg'\n",
    "# log_file = f'{log_path}/{log_time}.ulg'\n",
    "print(log_file)"
   ]
  },
  {
   "cell_type": "code",
   "execution_count": 24,
   "metadata": {},
   "outputs": [
    {
     "name": "stdout",
     "output_type": "stream",
     "text": [
      "acc score : 0.8711091456534296\n",
      "peak score :0.9997179226401711\n",
      "hf score : 0.4387683800624556\n"
     ]
    }
   ],
   "source": [
    "topic_list = 'sensor_combined'\n",
    "info = logextract(log_file, topic_list)\n",
    "scores = logscore(info)"
   ]
  },
  {
   "cell_type": "markdown",
   "metadata": {},
   "source": [
    "# Scores Statistics"
   ]
  },
  {
   "cell_type": "code",
   "execution_count": 25,
   "metadata": {},
   "outputs": [],
   "source": [
    "path2csv = 'log_scores.csv'\n",
    "\n",
    "try:\n",
    "    csv_file = open(path2csv)\n",
    "except IOError: \n",
    "    print(f'The file {path2csv} does not exist or is not readable. Please verify the path.')\n",
    "    \n",
    "   \n",
    "\n",
    "reader = csv.DictReader(csv_file)\n",
    "\n",
    "acc_score = []\n",
    "peak_score = []\n",
    "hf_score = []\n",
    "for line in reader:\n",
    "    acc_score.append(float(line['Acc score']))\n",
    "    peak_score.append(float(line['Peak score']))\n",
    "    hf_score.append(float(line['HF score']))\n"
   ]
  },
  {
   "cell_type": "code",
   "execution_count": 26,
   "metadata": {},
   "outputs": [
    {
     "name": "stdout",
     "output_type": "stream",
     "text": [
      "13\n"
     ]
    }
   ],
   "source": [
    "acc_bins = np.arange(0.6,1,0.02)\n",
    "\n",
    "for k in range(len(acc_bins)):\n",
    "    if scores[\"acc_score\"] < acc_bins[k+1]:\n",
    "        print(k)\n",
    "        bin_index = k\n",
    "        break"
   ]
  },
  {
   "cell_type": "code",
   "execution_count": 27,
   "metadata": {},
   "outputs": [
    {
     "data": {
      "image/png": "[encoded data removed]",
      "text/plain": [
       "<Figure size 432x288 with 1 Axes>"
      ]
     },
     "metadata": {
      "needs_background": "light"
     },
     "output_type": "display_data"
    }
   ],
   "source": [
    "plt.figure()\n",
    "pdrpm = pd.Series(acc_score)\n",
    "hist = pdrpm.plot(kind='hist',density=False,bins=acc_bins,edgecolor='k',title='Acc score')\n",
    "hist.patches[bin_index].set_facecolor('r') # the bin in which the current file average falls is highlighted"
   ]
  },
  {
   "cell_type": "code",
   "execution_count": 28,
   "metadata": {},
   "outputs": [
    {
     "name": "stdout",
     "output_type": "stream",
     "text": [
      "39\n"
     ]
    },
    {
     "data": {
      "text/plain": [
       "41"
      ]
     },
     "execution_count": 28,
     "metadata": {},
     "output_type": "execute_result"
    }
   ],
   "source": [
    "step = .0005\n",
    "peak_bins = np.arange(0.98,1+step,step)\n",
    "\n",
    "for k in range(len(peak_bins)):\n",
    "    if scores[\"peak_score\"] < peak_bins[k]+step:\n",
    "        print(k)\n",
    "        bin_index = k\n",
    "        break\n",
    "        \n",
    "len(peak_bins)"
   ]
  },
  {
   "cell_type": "code",
   "execution_count": 29,
   "metadata": {},
   "outputs": [
    {
     "data": {
      "image/png": "[encoded data removed]",
      "text/plain": [
       "<Figure size 432x288 with 1 Axes>"
      ]
     },
     "metadata": {
      "needs_background": "light"
     },
     "output_type": "display_data"
    }
   ],
   "source": [
    "plt.figure()\n",
    "pdrpm = pd.Series(peak_score)\n",
    "hist = pdrpm.plot(kind='hist',density=False,bins=peak_bins,edgecolor='k',color='orange',title='Peak score')\n",
    "hist.patches[bin_index].set_facecolor('r') # the bin in which the current file average falls is highlighted"
   ]
  },
  {
   "cell_type": "code",
   "execution_count": 30,
   "metadata": {},
   "outputs": [
    {
     "name": "stdout",
     "output_type": "stream",
     "text": [
      "44\n"
     ]
    }
   ],
   "source": [
    "hf_bins = np.arange(0.35,0.5,.002)\n",
    "\n",
    "for k in range(len(hf_bins)):\n",
    "    if scores[\"hf_score\"] < hf_bins[k+1]:\n",
    "        print(k)\n",
    "        bin_index = k\n",
    "        break"
   ]
  },
  {
   "cell_type": "code",
   "execution_count": 31,
   "metadata": {},
   "outputs": [
    {
     "data": {
      "image/png": "[encoded data removed]",
      "text/plain": [
       "<Figure size 432x288 with 1 Axes>"
      ]
     },
     "metadata": {
      "needs_background": "light"
     },
     "output_type": "display_data"
    }
   ],
   "source": [
    "plt.figure()\n",
    "pdrpm = pd.Series(hf_score)\n",
    "hist = pdrpm.plot(kind='hist',density=False,bins=hf_bins,edgecolor='k',color='lightgreen',title='HF score')\n",
    "hist.patches[bin_index].set_facecolor('r') # the bin in which the current file average falls is highlighted"
   ]
  },
  {
   "cell_type": "code",
   "execution_count": null,
   "metadata": {},
   "outputs": [],
   "source": []
  }
 ],
 "metadata": {
  "kernelspec": {
   "display_name": "Python 3",
   "language": "python",
   "name": "python3"
  },
  "language_info": {
   "codemirror_mode": {
    "name": "ipython",
    "version": 3
   },
   "file_extension": ".py",
   "mimetype": "text/x-python",
   "name": "python",
   "nbconvert_exporter": "python",
   "pygments_lexer": "ipython3",
   "version": "3.7.4"
  }
 },
 "nbformat": 4,
 "nbformat_minor": 2
}
